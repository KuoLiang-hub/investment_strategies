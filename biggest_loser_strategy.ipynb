{
 "cells": [
  {
   "cell_type": "markdown",
   "id": "1f9bd5e2-65bc-4b41-a626-19792aa2b849",
   "metadata": {},
   "source": [
    "# Biggest loser strategy\n",
    "\n",
    "**Author:** Kuo Liang  \n",
    "**Date:** October 17, 2025  \n",
    "**Purpose:** The \"Biggest Loser\" strategy involves consistently purchasing whichever stock in your portfolio has experienced the lowest gain (or highest loss) during the previous month, allowing loyal investors to accumulate shares at relatively favorable prices.\n",
    "**Data Source(s):** [perplexity, yahoo finance]  \n",
    "**Environment:** [Python 3.12, JupyterLab 4.4.9]  \n",
    "**Library Versions:** [matplotlib 3.10.7, numpy 2.3.3, pandas 2.3.3, seaborn 0.13.2, tqdm 4.67.1, yfinance 0.2.66] \n",
    "\n",
    "## Analysis Structure\n",
    "\n",
    "This notebook contains three main sections:\n",
    "\n",
    "### 1. Data Collection\n",
    "- Gathers historical stock price data from 2015 to present\n",
    "- Focuses on the top 10 companies from each major sector\n",
    "- Creates a comprehensive dataset for backtesting the strategy\n",
    "\n",
    "### 2. Strategy Simulation\n",
    "- Runs multiple simulations of the \"Biggest Loser\" strategy across different stock combinations\n",
    "- Compares strategy performance against dollar-cost averaging (DCA) into single stocks\n",
    "- Generates visualizations showing:\n",
    "  - Portfolio growth over time\n",
    "  - Strategy performance vs. benchmark alternatives\n",
    "\n",
    "### 3. Performance Evaluation\n",
    "- Ranks the \"Biggest Loser\" strategy against simple DCA approaches for individual stocks\n",
    "- Provides statistical analysis of when and why the strategy outperforms or underperforms\n",
    "\n",
    "## Key Questions Addressed\n",
    "\n",
    "- Does systematically buying the worst recent performer lead to better long-term results?\n",
    "- How does this strategy compare to simply dollar-cost averaging into a single stock?"
   ]
  },
  {
   "cell_type": "markdown",
   "id": "c755aec3-923f-4013-9ef2-f8ed7adb7b6e",
   "metadata": {},
   "source": [
    "## 1.  Data Collection"
   ]
  },
  {
   "cell_type": "code",
   "execution_count": 1,
   "id": "97e6d0d0-4fc6-4cef-a8cc-ac498671778f",
   "metadata": {},
   "outputs": [],
   "source": [
    "import random\n",
    "\n",
    "import matplotlib.pyplot as plt\n",
    "import numpy as np\n",
    "import pandas as pd\n",
    "from rich.traceback import install\n",
    "import seaborn as sns\n",
    "from tqdm.notebook import tqdm\n",
    "import yfinance as yf # 0.2.54 version\n",
    "\n",
    "\n",
    "install()\n",
    "pd.set_option('display.max_rows', None)\n",
    "pd.set_option('display.max_columns', None)\n",
    "sns.set_theme(style=\"whitegrid\")"
   ]
  },
  {
   "cell_type": "code",
   "execution_count": 2,
   "id": "88a33cf6-3a1f-49e1-82a9-05c6d3285732",
   "metadata": {},
   "outputs": [
    {
     "data": {
      "text/html": [
       "<div>\n",
       "<style scoped>\n",
       "    .dataframe tbody tr th:only-of-type {\n",
       "        vertical-align: middle;\n",
       "    }\n",
       "\n",
       "    .dataframe tbody tr th {\n",
       "        vertical-align: top;\n",
       "    }\n",
       "\n",
       "    .dataframe thead th {\n",
       "        text-align: right;\n",
       "    }\n",
       "</style>\n",
       "<table border=\"1\" class=\"dataframe\">\n",
       "  <thead>\n",
       "    <tr style=\"text-align: right;\">\n",
       "      <th></th>\n",
       "      <th>Sector</th>\n",
       "      <th>Ticker 1</th>\n",
       "      <th>Ticker 2</th>\n",
       "      <th>Ticker 3</th>\n",
       "      <th>Ticker 4</th>\n",
       "      <th>Ticker 5</th>\n",
       "      <th>Ticker 6</th>\n",
       "      <th>Ticker 7</th>\n",
       "      <th>Ticker 8</th>\n",
       "      <th>Ticker 9</th>\n",
       "      <th>Ticker 10</th>\n",
       "    </tr>\n",
       "  </thead>\n",
       "  <tbody>\n",
       "    <tr>\n",
       "      <th>0</th>\n",
       "      <td>Information Technology</td>\n",
       "      <td>MSFT</td>\n",
       "      <td>AAPL</td>\n",
       "      <td>NVDA</td>\n",
       "      <td>AMD</td>\n",
       "      <td>CRM</td>\n",
       "      <td>INTC</td>\n",
       "      <td>TSM</td>\n",
       "      <td>ORCL</td>\n",
       "      <td>AVGO</td>\n",
       "      <td>CSCO</td>\n",
       "    </tr>\n",
       "    <tr>\n",
       "      <th>1</th>\n",
       "      <td>Health Care</td>\n",
       "      <td>JNJ</td>\n",
       "      <td>PFE</td>\n",
       "      <td>UNH</td>\n",
       "      <td>MRK</td>\n",
       "      <td>ABBV</td>\n",
       "      <td>LLY</td>\n",
       "      <td>TMO</td>\n",
       "      <td>BMY</td>\n",
       "      <td>CVS</td>\n",
       "      <td>DHR</td>\n",
       "    </tr>\n",
       "  </tbody>\n",
       "</table>\n",
       "</div>"
      ],
      "text/plain": [
       "                   Sector Ticker 1 Ticker 2 Ticker 3 Ticker 4 Ticker 5  \\\n",
       "0  Information Technology     MSFT     AAPL     NVDA      AMD      CRM   \n",
       "1             Health Care      JNJ      PFE      UNH      MRK     ABBV   \n",
       "\n",
       "  Ticker 6 Ticker 7 Ticker 8 Ticker 9 Ticker 10  \n",
       "0     INTC      TSM     ORCL     AVGO      CSCO  \n",
       "1      LLY      TMO      BMY      CVS       DHR  "
      ]
     },
     "execution_count": 2,
     "metadata": {},
     "output_type": "execute_result"
    }
   ],
   "source": [
    "ticker_df = pd.read_csv(\"data/tickers_10_sectors.csv\")\n",
    "ticker_df.head(2)"
   ]
  },
  {
   "cell_type": "code",
   "execution_count": 3,
   "id": "7881d2f5-c536-4256-9812-09dbcc8ea3a8",
   "metadata": {},
   "outputs": [],
   "source": [
    "tick_lst_dict = dict()  # create a dictionary to hold the list of tickers\n",
    "\n",
    "# Get all rows as Python lists\n",
    "rows_as_lists = ticker_df.values.tolist()\n",
    "\n",
    "# make key value pair for tickers and sectors\n",
    "for row in rows_as_lists:\n",
    "    tick_lst_dict[row[0]] = row[1:]"
   ]
  },
  {
   "cell_type": "code",
   "execution_count": 4,
   "id": "46347fd5-63eb-45f8-aede-ac8db5882c1a",
   "metadata": {},
   "outputs": [
    {
     "name": "stderr",
     "output_type": "stream",
     "text": [
      "[*********************100%***********************]  111 of 111 completed\n",
      "\n",
      "2 Failed downloads:\n",
      "['ATVI', 'BRK.B']: YFTzMissingError('possibly delisted; no timezone found')\n"
     ]
    }
   ],
   "source": [
    "#### Not to abuse the API, just query it once\n",
    "\n",
    "all_ticks = [tick for sector_ticks in tick_lst_dict.values() for tick in sector_ticks]\n",
    "all_ticks.append('^SPX') # get S&P 500 index there for benchmarking\n",
    "\n",
    "# download the prices for all tickers with start date\n",
    "all_data = yf.download(all_ticks, start='2015-01-01', auto_adjust=False)\n",
    "\n",
    "# get month end price for tickers has price listed on yahoo finance\n",
    "month_end_prices = all_data.dropna(axis=1, how='any').resample('ME').last()['Adj Close'].copy()"
   ]
  },
  {
   "cell_type": "markdown",
   "id": "9e212d69-06b3-4ade-9dba-40423667b989",
   "metadata": {},
   "source": [
    "## 2. Strategy Simulation"
   ]
  },
  {
   "cell_type": "code",
   "execution_count": 5,
   "id": "c6c22132-84fa-4441-96f7-54d8f5b6fae0",
   "metadata": {},
   "outputs": [],
   "source": [
    "# clean the data list to keep tickers have data\n",
    "valid_ticks = month_end_prices.columns.tolist()\n",
    "\n",
    "for k, v in tick_lst_dict.items():\n",
    "    tick_lst_dict[k] = [tk for tk in v if tk in valid_ticks]"
   ]
  },
  {
   "cell_type": "code",
   "execution_count": 6,
   "id": "51f28bba-6af2-4ddf-8851-d4eb3cadf315",
   "metadata": {},
   "outputs": [],
   "source": [
    "def get_tickers(tick_lst_dict):\n",
    "    sec_num_selection = {'Information Technology' : 1,\n",
    "                         'Health Care' : 1,\n",
    "                         'Financials' : 1,\n",
    "                         'Consumer Discretionary' : 1,\n",
    "                         'Communication Services' : 1,\n",
    "                         'Industrials' : 1,\n",
    "                         'Energy' : 1,\n",
    "                         'Consumer Staples' : 1,\n",
    "                         'Utilities' : 1,\n",
    "                         'Real Estate' : 1,\n",
    "                         'Materials' : 1}\n",
    "    sel_cols = []\n",
    "    for k, v in sec_num_selection.items():\n",
    "        sel_cols.extend(random.sample(tick_lst_dict[k], k=v))\n",
    "    \n",
    "    return sel_cols\n",
    "\n",
    "def sim_strategy(sel_df, use_cols, invest_amt=500):\n",
    "    \n",
    "    perc_ch_df = sel_df[use_cols].pct_change().dropna()\n",
    "    perc_ch_df['biggest_loser'] = perc_ch_df.idxmin(axis=1)\n",
    "    sel_df['To_buy'] = perc_ch_df['biggest_loser']\n",
    "    sel_df.dropna(inplace=True)\n",
    "    \n",
    "    # before assigning actual shares to buy, set them to 0\n",
    "    for col in use_cols:\n",
    "        sel_df[f'{col}_to_buy'] = 0.0\n",
    "    \n",
    "    # assign number of shares to buy for each stock\n",
    "    for col in use_cols:\n",
    "        indx = sel_df[sel_df['To_buy'] == col].index.values\n",
    "        sel_df.loc[indx, f'{col}_to_buy'] = (invest_amt / sel_df.loc[indx, col]).round(6)\n",
    "        \n",
    "    # get cumulative shares for the stocks\n",
    "    for col in use_cols:\n",
    "        sel_df[f'{col}_cum_shares'] = sel_df[f'{col}_to_buy'].cumsum()\n",
    "    \n",
    "    # get the cumulative values for each stock\n",
    "    for col in use_cols:\n",
    "        sel_df[f'{col}_cum_values'] = sel_df[f'{col}_cum_shares'] * sel_df[col]\n",
    "    \n",
    "    sel_df['invest_amount'] = invest_amt\n",
    "    sel_df['cum_invest_amount'] = sel_df['invest_amount'].cumsum()\n",
    "    sel_df['tota_cum_value'] = sel_df[[f'{col}_cum_values' for col in use_cols]].sum(axis=1)\n",
    "    \n",
    "    # get the shares if I keep buying only one stocks\n",
    "    new_use_cols = use_cols + ['^SPX'] # add s&p back to the df\n",
    "    \n",
    "    for col in new_use_cols:\n",
    "        sel_df[f'only_buy_{col}_shares'] = (invest_amt / sel_df[col]).round(6)\n",
    "    \n",
    "    # get the cumulative shares \n",
    "    for col in new_use_cols:\n",
    "        sel_df[f'only_buy_{col}_cum_values'] = sel_df[f'only_buy_{col}_shares'].cumsum()\n",
    "    \n",
    "    # get the values for persistent evaluate\n",
    "    for col in new_use_cols:\n",
    "        sel_df[f'only_buy_{col}_value'] = sel_df[f'only_buy_{col}_cum_values'] * sel_df[col]\n",
    "    \n",
    "    return sel_df\n",
    "\n",
    "def save_chart(plot_df, use_cols, indx, show_plot=False):\n",
    "    sns.set_theme(style=\"whitegrid\")\n",
    "    plt.figure(figsize=(12, 6))\n",
    "    \n",
    "    # Plot all gray lines first\n",
    "    for col in plot_df.columns:\n",
    "        if col not in ['cum_invest_amount', 'tota_cum_value', 'only_buy_^SPX_value']:\n",
    "            plt.plot(plot_df.index, plot_df[col], color='gray', alpha=0.5, linewidth=1)\n",
    "    \n",
    "    # Plot cost, trategy, S&P500 with specific colors\n",
    "    plt.plot(plot_df.index, plot_df['tota_cum_value'], color='red', linewidth=2, label='Biggest Loser Strategy')\n",
    "    plt.plot(plot_df.index, plot_df['cum_invest_amount'], color='blue', linewidth=2, label='Cost')\n",
    "    plt.plot(plot_df.index, plot_df['only_buy_^SPX_value'], color='green', linewidth=2, label='S&P500')\n",
    "    \n",
    "    plt.xlabel('Date')\n",
    "    plt.ylabel('Stock Price')\n",
    "    plt.title('Biggest Loser Strategy Performance vs Single Stock Dollar Averaging')\n",
    "    plt.legend()\n",
    "    plt.grid(True, alpha=0.3)\n",
    "    \n",
    "    # Add note at bottom right of entire figure\n",
    "    plt.figtext(0.99, 0.01, f'Stocks: {\", \".join(use_cols)}',\n",
    "                ha='right', va='bottom',\n",
    "                fontsize=8, style='italic')\n",
    "    \n",
    "    plt.tight_layout()\n",
    "    plt.savefig(f'Pictues/big_loser_lines_{indx}.png', dpi=100, bbox_inches='tight')\n",
    "    if show_plot:\n",
    "        plt.show()\n",
    "    else:\n",
    "        plt.close()\n"
   ]
  },
  {
   "cell_type": "code",
   "execution_count": 10,
   "id": "024922c3-a368-4ed9-8ec7-14c143d99b66",
   "metadata": {},
   "outputs": [
    {
     "data": {
      "application/vnd.jupyter.widget-view+json": {
       "model_id": "04989978aced469395773b7e437f26b9",
       "version_major": 2,
       "version_minor": 0
      },
      "text/plain": [
       "  0%|          | 0/30 [00:00<?, ?it/s]"
      ]
     },
     "metadata": {},
     "output_type": "display_data"
    }
   ],
   "source": [
    "# let's do 30 runs, since that's the number for minimium sample size to be statistially significant\n",
    "for indx in tqdm(range(1, 31)):\n",
    "    # get the df for the simulation\n",
    "    use_cols = get_tickers(tick_lst_dict)\n",
    "    sel_df = month_end_prices[use_cols + ['^SPX']].copy()\n",
    "    \n",
    "    compute_df = sim_strategy(sel_df, use_cols, 500)\n",
    "    \n",
    "    # save the plots \n",
    "    plot_cols = ['cum_invest_amount', 'tota_cum_value'] + [f\"only_buy_{col}_value\" for col in use_cols] + [\"only_buy_^SPX_value\" ]\n",
    "    plot_df = compute_df[plot_cols]\n",
    "    save_chart(plot_df, use_cols, indx, False)\n",
    "    \n",
    "    # save the ranking result \n",
    "    result_cols = ['tota_cum_value', \"only_buy_^SPX_value\"] + [f\"only_buy_{col}_value\" for col in use_cols]\n",
    "    result_df = compute_df[result_cols].iloc[-1].to_frame(name='final_values').reset_index().sort_values('final_values', ascending=False)\n",
    "    result_df['rank'] = np.arange(1, len(result_df)+1)\n",
    "    result_df.to_csv(f'results/big_loser_strat_{indx}.csv', index=False)"
   ]
  },
  {
   "cell_type": "markdown",
   "id": "b8e35163-0946-4c66-98cf-cc637992fed5",
   "metadata": {},
   "source": [
    "## 3. Performance Evaluation"
   ]
  },
  {
   "cell_type": "code",
   "execution_count": 11,
   "id": "aca4f15c-6eee-449d-8d74-154d3e7eff93",
   "metadata": {},
   "outputs": [
    {
     "name": "stdout",
     "output_type": "stream",
     "text": [
      "make sure all of the results have 13 rankings\n"
     ]
    },
    {
     "data": {
      "text/plain": [
       "total_candidate\n",
       "13    30\n",
       "Name: count, dtype: int64"
      ]
     },
     "execution_count": 11,
     "metadata": {},
     "output_type": "execute_result"
    }
   ],
   "source": [
    "result_df_lst = []\n",
    "for ind in range(1,31):\n",
    "    \n",
    "    result_df = pd.read_csv(f'results/big_loser_strat_{ind}.csv')\n",
    "    result_df['from_trail'] = ind\n",
    "    result_df['total_candidate'] = len(result_df)\n",
    "    result_df_lst.append(result_df[result_df['Ticker'] == 'tota_cum_value'])\n",
    "\n",
    "total_result_df = pd.concat(result_df_lst)\n",
    "\n",
    "rank_df = total_result_df['rank'].value_counts().to_frame().reset_index()\n",
    "rank_df.sort_values('rank', inplace=True)\n",
    "\n",
    "# making sure all of the results have 13 rankings\n",
    "print(\"make sure all of the results have 13 rankings\")\n",
    "total_result_df['total_candidate'].value_counts()"
   ]
  },
  {
   "cell_type": "code",
   "execution_count": 12,
   "id": "9d41cb16-a670-4100-87c4-ffe697f19ee7",
   "metadata": {},
   "outputs": [
    {
     "data": {
      "image/png": "[encoded data removed]",
      "text/plain": [
       "<Figure size 800x600 with 1 Axes>"
      ]
     },
     "metadata": {},
     "output_type": "display_data"
    }
   ],
   "source": [
    "plt.figure(figsize=(8, 6))\n",
    "\n",
    "sns.barplot(data=rank_df, x='rank', y='count')\n",
    "\n",
    "plt.xlabel('Ranking')\n",
    "plt.ylabel('Frequency')\n",
    "plt.title('Biggest Loser Strategy Performance Ranking for 30 Runs', fontsize=18)\n",
    "# plt.legend()\n",
    "\n",
    "plt.grid(True, alpha=0.3)\n",
    "\n",
    "# Add note at bottom right of entire figure\n",
    "plt.figtext(0.99, 0.01, 'Ranking from 1 to 13, 1 is the best performer.',\n",
    "            ha='right', va='bottom',\n",
    "            fontsize=8, style='italic')\n",
    "\n",
    "plt.tight_layout()\n",
    "plt.savefig(f'Pictues/Results_big_loser_ranking_30_runs.png', dpi=100, bbox_inches='tight')\n",
    "plt.show()\n"
   ]
  },
  {
   "cell_type": "code",
   "execution_count": null,
   "id": "ad959c53-ba29-448b-9c46-3923f515fc7b",
   "metadata": {},
   "outputs": [],
   "source": []
  }
 ],
 "metadata": {
  "kernelspec": {
   "display_name": "Python 3 (ipykernel)",
   "language": "python",
   "name": "python3"
  },
  "language_info": {
   "codemirror_mode": {
    "name": "ipython",
    "version": 3
   },
   "file_extension": ".py",
   "mimetype": "text/x-python",
   "name": "python",
   "nbconvert_exporter": "python",
   "pygments_lexer": "ipython3",
   "version": "3.12.3"
  }
 },
 "nbformat": 4,
 "nbformat_minor": 5
}
